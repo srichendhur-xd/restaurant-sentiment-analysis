{
  "nbformat": 4,
  "nbformat_minor": 0,
  "metadata": {
    "colab": {
      "provenance": []
    },
    "kernelspec": {
      "name": "python3",
      "display_name": "Python 3"
    },
    "language_info": {
      "name": "python"
    }
  },
  "cells": [
    {
      "cell_type": "code",
      "execution_count": 25,
      "metadata": {
        "id": "bDCDnazArht9"
      },
      "outputs": [],
      "source": [
        "import pandas as pd\n",
        "import numpy as np\n",
        "import nltk\n",
        "import re\n",
        "import string\n",
        "from nltk.corpus import stopwords\n",
        "from nltk.stem.porter import PorterStemmer\n",
        "from nltk.stem import WordNetLemmatizer\n",
        "from sklearn.feature_extraction.text import TfidfVectorizer\n",
        "from sklearn.preprocessing import StandardScaler\n",
        "from sklearn.decomposition import PCA\n",
        "from sklearn.model_selection import train_test_split\n",
        "from sklearn.naive_bayes import GaussianNB, MultinomialNB, BernoulliNB\n",
        "from sklearn.linear_model import LogisticRegression\n",
        "from sklearn.ensemble import RandomForestClassifier\n",
        "from sklearn.svm import SVC\n",
        "from sklearn.metrics import accuracy_score, classification_report\n",
        "from xgboost import XGBClassifier\n",
        "from google.colab import files"
      ]
    },
    {
      "cell_type": "code",
      "source": [
        "# Download necessary NLTK data\n",
        "nltk.download('stopwords')\n",
        "nltk.download('wordnet')"
      ],
      "metadata": {
        "colab": {
          "base_uri": "https://localhost:8080/"
        },
        "id": "JwyKEx0hs0YR",
        "outputId": "97de5612-39be-4a9e-e692-35970b6f8bfd"
      },
      "execution_count": 3,
      "outputs": [
        {
          "output_type": "stream",
          "name": "stderr",
          "text": [
            "[nltk_data] Downloading package stopwords to /root/nltk_data...\n",
            "[nltk_data]   Unzipping corpora/stopwords.zip.\n",
            "[nltk_data] Downloading package wordnet to /root/nltk_data...\n"
          ]
        },
        {
          "output_type": "execute_result",
          "data": {
            "text/plain": [
              "True"
            ]
          },
          "metadata": {},
          "execution_count": 3
        }
      ]
    },
    {
      "cell_type": "code",
      "source": [
        "# Upload file\n",
        "uploaded = files.upload()\n",
        "for file_name in uploaded.keys():\n",
        "    print(f\"Uploaded file: {file_name}\")"
      ],
      "metadata": {
        "colab": {
          "base_uri": "https://localhost:8080/",
          "height": 90
        },
        "id": "2RrLIAmCtXTD",
        "outputId": "85b28745-bbbd-43e6-b032-a44efa79aee3"
      },
      "execution_count": 6,
      "outputs": [
        {
          "output_type": "display_data",
          "data": {
            "text/plain": [
              "<IPython.core.display.HTML object>"
            ],
            "text/html": [
              "\n",
              "     <input type=\"file\" id=\"files-e99307a7-6429-4eeb-b4f3-9111c508ac2a\" name=\"files[]\" multiple disabled\n",
              "        style=\"border:none\" />\n",
              "     <output id=\"result-e99307a7-6429-4eeb-b4f3-9111c508ac2a\">\n",
              "      Upload widget is only available when the cell has been executed in the\n",
              "      current browser session. Please rerun this cell to enable.\n",
              "      </output>\n",
              "      <script>// Copyright 2017 Google LLC\n",
              "//\n",
              "// Licensed under the Apache License, Version 2.0 (the \"License\");\n",
              "// you may not use this file except in compliance with the License.\n",
              "// You may obtain a copy of the License at\n",
              "//\n",
              "//      http://www.apache.org/licenses/LICENSE-2.0\n",
              "//\n",
              "// Unless required by applicable law or agreed to in writing, software\n",
              "// distributed under the License is distributed on an \"AS IS\" BASIS,\n",
              "// WITHOUT WARRANTIES OR CONDITIONS OF ANY KIND, either express or implied.\n",
              "// See the License for the specific language governing permissions and\n",
              "// limitations under the License.\n",
              "\n",
              "/**\n",
              " * @fileoverview Helpers for google.colab Python module.\n",
              " */\n",
              "(function(scope) {\n",
              "function span(text, styleAttributes = {}) {\n",
              "  const element = document.createElement('span');\n",
              "  element.textContent = text;\n",
              "  for (const key of Object.keys(styleAttributes)) {\n",
              "    element.style[key] = styleAttributes[key];\n",
              "  }\n",
              "  return element;\n",
              "}\n",
              "\n",
              "// Max number of bytes which will be uploaded at a time.\n",
              "const MAX_PAYLOAD_SIZE = 100 * 1024;\n",
              "\n",
              "function _uploadFiles(inputId, outputId) {\n",
              "  const steps = uploadFilesStep(inputId, outputId);\n",
              "  const outputElement = document.getElementById(outputId);\n",
              "  // Cache steps on the outputElement to make it available for the next call\n",
              "  // to uploadFilesContinue from Python.\n",
              "  outputElement.steps = steps;\n",
              "\n",
              "  return _uploadFilesContinue(outputId);\n",
              "}\n",
              "\n",
              "// This is roughly an async generator (not supported in the browser yet),\n",
              "// where there are multiple asynchronous steps and the Python side is going\n",
              "// to poll for completion of each step.\n",
              "// This uses a Promise to block the python side on completion of each step,\n",
              "// then passes the result of the previous step as the input to the next step.\n",
              "function _uploadFilesContinue(outputId) {\n",
              "  const outputElement = document.getElementById(outputId);\n",
              "  const steps = outputElement.steps;\n",
              "\n",
              "  const next = steps.next(outputElement.lastPromiseValue);\n",
              "  return Promise.resolve(next.value.promise).then((value) => {\n",
              "    // Cache the last promise value to make it available to the next\n",
              "    // step of the generator.\n",
              "    outputElement.lastPromiseValue = value;\n",
              "    return next.value.response;\n",
              "  });\n",
              "}\n",
              "\n",
              "/**\n",
              " * Generator function which is called between each async step of the upload\n",
              " * process.\n",
              " * @param {string} inputId Element ID of the input file picker element.\n",
              " * @param {string} outputId Element ID of the output display.\n",
              " * @return {!Iterable<!Object>} Iterable of next steps.\n",
              " */\n",
              "function* uploadFilesStep(inputId, outputId) {\n",
              "  const inputElement = document.getElementById(inputId);\n",
              "  inputElement.disabled = false;\n",
              "\n",
              "  const outputElement = document.getElementById(outputId);\n",
              "  outputElement.innerHTML = '';\n",
              "\n",
              "  const pickedPromise = new Promise((resolve) => {\n",
              "    inputElement.addEventListener('change', (e) => {\n",
              "      resolve(e.target.files);\n",
              "    });\n",
              "  });\n",
              "\n",
              "  const cancel = document.createElement('button');\n",
              "  inputElement.parentElement.appendChild(cancel);\n",
              "  cancel.textContent = 'Cancel upload';\n",
              "  const cancelPromise = new Promise((resolve) => {\n",
              "    cancel.onclick = () => {\n",
              "      resolve(null);\n",
              "    };\n",
              "  });\n",
              "\n",
              "  // Wait for the user to pick the files.\n",
              "  const files = yield {\n",
              "    promise: Promise.race([pickedPromise, cancelPromise]),\n",
              "    response: {\n",
              "      action: 'starting',\n",
              "    }\n",
              "  };\n",
              "\n",
              "  cancel.remove();\n",
              "\n",
              "  // Disable the input element since further picks are not allowed.\n",
              "  inputElement.disabled = true;\n",
              "\n",
              "  if (!files) {\n",
              "    return {\n",
              "      response: {\n",
              "        action: 'complete',\n",
              "      }\n",
              "    };\n",
              "  }\n",
              "\n",
              "  for (const file of files) {\n",
              "    const li = document.createElement('li');\n",
              "    li.append(span(file.name, {fontWeight: 'bold'}));\n",
              "    li.append(span(\n",
              "        `(${file.type || 'n/a'}) - ${file.size} bytes, ` +\n",
              "        `last modified: ${\n",
              "            file.lastModifiedDate ? file.lastModifiedDate.toLocaleDateString() :\n",
              "                                    'n/a'} - `));\n",
              "    const percent = span('0% done');\n",
              "    li.appendChild(percent);\n",
              "\n",
              "    outputElement.appendChild(li);\n",
              "\n",
              "    const fileDataPromise = new Promise((resolve) => {\n",
              "      const reader = new FileReader();\n",
              "      reader.onload = (e) => {\n",
              "        resolve(e.target.result);\n",
              "      };\n",
              "      reader.readAsArrayBuffer(file);\n",
              "    });\n",
              "    // Wait for the data to be ready.\n",
              "    let fileData = yield {\n",
              "      promise: fileDataPromise,\n",
              "      response: {\n",
              "        action: 'continue',\n",
              "      }\n",
              "    };\n",
              "\n",
              "    // Use a chunked sending to avoid message size limits. See b/62115660.\n",
              "    let position = 0;\n",
              "    do {\n",
              "      const length = Math.min(fileData.byteLength - position, MAX_PAYLOAD_SIZE);\n",
              "      const chunk = new Uint8Array(fileData, position, length);\n",
              "      position += length;\n",
              "\n",
              "      const base64 = btoa(String.fromCharCode.apply(null, chunk));\n",
              "      yield {\n",
              "        response: {\n",
              "          action: 'append',\n",
              "          file: file.name,\n",
              "          data: base64,\n",
              "        },\n",
              "      };\n",
              "\n",
              "      let percentDone = fileData.byteLength === 0 ?\n",
              "          100 :\n",
              "          Math.round((position / fileData.byteLength) * 100);\n",
              "      percent.textContent = `${percentDone}% done`;\n",
              "\n",
              "    } while (position < fileData.byteLength);\n",
              "  }\n",
              "\n",
              "  // All done.\n",
              "  yield {\n",
              "    response: {\n",
              "      action: 'complete',\n",
              "    }\n",
              "  };\n",
              "}\n",
              "\n",
              "scope.google = scope.google || {};\n",
              "scope.google.colab = scope.google.colab || {};\n",
              "scope.google.colab._files = {\n",
              "  _uploadFiles,\n",
              "  _uploadFilesContinue,\n",
              "};\n",
              "})(self);\n",
              "</script> "
            ]
          },
          "metadata": {}
        },
        {
          "output_type": "stream",
          "name": "stdout",
          "text": [
            "Saving Restaurant_Reviews 1.tsv to Restaurant_Reviews 1.tsv\n",
            "Uploaded file: Restaurant_Reviews 1.tsv\n"
          ]
        }
      ]
    },
    {
      "cell_type": "code",
      "source": [
        "df = pd.read_csv('/content/Restaurant_Reviews 1.tsv', delimiter='\\t', quoting=3)\n",
        "print(df.head())\n",
        "print(\"Dataset Shape:\", df.shape)"
      ],
      "metadata": {
        "colab": {
          "base_uri": "https://localhost:8080/"
        },
        "id": "OsQhuIVGuFWe",
        "outputId": "b13ef7bd-3292-45a9-a5e1-b9d7e20729bd"
      },
      "execution_count": 12,
      "outputs": [
        {
          "output_type": "stream",
          "name": "stdout",
          "text": [
            "                                              Review  Liked\n",
            "0                           Wow... Loved this place.      1\n",
            "1                                 Crust is not good.      0\n",
            "2          Not tasty and the texture was just nasty.      0\n",
            "3  Stopped by during the late May bank holiday of...      1\n",
            "4  The selection on the menu was great and so wer...      1\n",
            "Dataset Shape: (1000, 2)\n"
          ]
        }
      ]
    },
    {
      "cell_type": "code",
      "source": [
        "# Initialize PorterStemmer and WordNetLemmatizer\n",
        "ps = PorterStemmer()\n",
        "lemma = WordNetLemmatizer()\n",
        "\n",
        "# Create an empty list for the cleaned reviews\n",
        "corpus = []\n",
        "for i in range(0, len(df)):\n",
        "    review = re.sub('[^a-zA-Z]', ' ', df['Review'][i])\n",
        "    review = review.lower()\n",
        "    review_words = review.split()\n",
        "    review_words = [word for word in review_words if word not in set(stopwords.words('english'))]\n",
        "    review_words = [ps.stem(word) for word in review_words]\n",
        "    review = ' '.join(review_words)\n",
        "    corpus.append(review)\n",
        "\n",
        "print(\"Cleaned Reviews:\", corpus[:10])"
      ],
      "metadata": {
        "colab": {
          "base_uri": "https://localhost:8080/"
        },
        "id": "Ai_jQdC0uTAk",
        "outputId": "84e9a52c-a6aa-4fe6-d5d8-50f179880256"
      },
      "execution_count": 13,
      "outputs": [
        {
          "output_type": "stream",
          "name": "stdout",
          "text": [
            "Cleaned Reviews: ['wow love place', 'crust good', 'tasti textur nasti', 'stop late may bank holiday rick steve recommend love', 'select menu great price', 'get angri want damn pho', 'honeslti tast fresh', 'potato like rubber could tell made ahead time kept warmer', 'fri great', 'great touch']\n"
          ]
        }
      ]
    },
    {
      "cell_type": "code",
      "source": [
        "# TF-IDF Vectorization\n",
        "vectorizer = TfidfVectorizer(stop_words='english')\n",
        "X = vectorizer.fit_transform(corpus)\n",
        "y = df['Liked']\n",
        "\n",
        "# Convert to DataFrame\n",
        "tfidf_df = pd.DataFrame(data=X.toarray(), columns=vectorizer.get_feature_names_out())\n",
        "print(tfidf_df.tail())"
      ],
      "metadata": {
        "colab": {
          "base_uri": "https://localhost:8080/"
        },
        "id": "pQy3soqtuVNI",
        "outputId": "39e83d36-5da0-4c7e-ea81-f776e9016929"
      },
      "execution_count": 14,
      "outputs": [
        {
          "output_type": "stream",
          "name": "stdout",
          "text": [
            "     absolut  absolutley  accid  accommod  accomod  accordingli  account  ach  \\\n",
            "995      0.0         0.0    0.0       0.0      0.0          0.0      0.0  0.0   \n",
            "996      0.0         0.0    0.0       0.0      0.0          0.0      0.0  0.0   \n",
            "997      0.0         0.0    0.0       0.0      0.0          0.0      0.0  0.0   \n",
            "998      0.0         0.0    0.0       0.0      0.0          0.0      0.0  0.0   \n",
            "999      0.0         0.0    0.0       0.0      0.0          0.0      0.0  0.0   \n",
            "\n",
            "     acknowledg  actual  ...  yeah  year  yellow  yellowtail  yelper  yucki  \\\n",
            "995         0.0     0.0  ...   0.0   0.0     0.0         0.0     0.0    0.0   \n",
            "996         0.0     0.0  ...   0.0   0.0     0.0         0.0     0.0    0.0   \n",
            "997         0.0     0.0  ...   0.0   0.0     0.0         0.0     0.0    0.0   \n",
            "998         0.0     0.0  ...   0.0   0.0     0.0         0.0     0.0    0.0   \n",
            "999         0.0     0.0  ...   0.0   0.0     0.0         0.0     0.0    0.0   \n",
            "\n",
            "     yukon  yum  yummi  zero  \n",
            "995    0.0  0.0    0.0   0.0  \n",
            "996    0.0  0.0    0.0   0.0  \n",
            "997    0.0  0.0    0.0   0.0  \n",
            "998    0.0  0.0    0.0   0.0  \n",
            "999    0.0  0.0    0.0   0.0  \n",
            "\n",
            "[5 rows x 1480 columns]\n"
          ]
        }
      ]
    },
    {
      "cell_type": "code",
      "source": [
        "# Standardization\n",
        "scaler = StandardScaler(with_mean=False)\n",
        "X_scaled = scaler.fit_transform(X.toarray())"
      ],
      "metadata": {
        "id": "-FVtjpkLuY2J"
      },
      "execution_count": 15,
      "outputs": []
    },
    {
      "cell_type": "code",
      "source": [
        "# PCA for Dimensionality Reduction\n",
        "pca = PCA(n_components=2)\n",
        "X_pca = pca.fit_transform(X_scaled)\n",
        "\n",
        "# Train-Test Split\n",
        "X_train, X_test, y_train, y_test = train_test_split(X, y, test_size=0.2, random_state=42)\n",
        "\n",
        "# Convert Sparse Matrix to Dense for GaussianNB\n",
        "X_train_dense = X_train.toarray()\n",
        "X_test_dense = X_test.toarray()"
      ],
      "metadata": {
        "id": "NE6LxqKavpev"
      },
      "execution_count": 16,
      "outputs": []
    },
    {
      "cell_type": "code",
      "source": [
        "# Train and Evaluate Classifiers\n",
        "# 1. GaussianNB\n",
        "clf_gnb = GaussianNB()\n",
        "clf_gnb.fit(X_train_dense, y_train)\n",
        "y_pred_gnb = clf_gnb.predict(X_test_dense)\n",
        "print(\"\\nGaussianNB Accuracy:\", accuracy_score(y_test, y_pred_gnb))\n",
        "print(classification_report(y_test, y_pred_gnb))"
      ],
      "metadata": {
        "colab": {
          "base_uri": "https://localhost:8080/"
        },
        "id": "C8ah57MZvtGk",
        "outputId": "28a8f21f-4491-4b03-929a-f3e5c41003e6"
      },
      "execution_count": 17,
      "outputs": [
        {
          "output_type": "stream",
          "name": "stdout",
          "text": [
            "\n",
            "GaussianNB Accuracy: 0.7\n",
            "              precision    recall  f1-score   support\n",
            "\n",
            "           0       0.74      0.57      0.65        96\n",
            "           1       0.67      0.82      0.74       104\n",
            "\n",
            "    accuracy                           0.70       200\n",
            "   macro avg       0.71      0.70      0.69       200\n",
            "weighted avg       0.71      0.70      0.69       200\n",
            "\n"
          ]
        }
      ]
    },
    {
      "cell_type": "code",
      "source": [
        "# 2. MultinomialNB\n",
        "clf_mnb = MultinomialNB()\n",
        "clf_mnb.fit(X_train, y_train)\n",
        "y_pred_mnb = clf_mnb.predict(X_test)\n",
        "print(\"\\nMultinomialNB Accuracy:\", accuracy_score(y_test, y_pred_mnb))\n",
        "print(classification_report(y_test, y_pred_mnb))"
      ],
      "metadata": {
        "colab": {
          "base_uri": "https://localhost:8080/"
        },
        "id": "raWR9g4fvxU3",
        "outputId": "137e5d01-fc6c-4749-bb60-e49bb7d73a19"
      },
      "execution_count": 18,
      "outputs": [
        {
          "output_type": "stream",
          "name": "stdout",
          "text": [
            "\n",
            "MultinomialNB Accuracy: 0.745\n",
            "              precision    recall  f1-score   support\n",
            "\n",
            "           0       0.74      0.72      0.73        96\n",
            "           1       0.75      0.77      0.76       104\n",
            "\n",
            "    accuracy                           0.74       200\n",
            "   macro avg       0.74      0.74      0.74       200\n",
            "weighted avg       0.74      0.74      0.74       200\n",
            "\n"
          ]
        }
      ]
    },
    {
      "cell_type": "code",
      "source": [
        "# 3. BernoulliNB\n",
        "clf_bnb = BernoulliNB()\n",
        "clf_bnb.fit(X_train, y_train)\n",
        "y_pred_bnb = clf_bnb.predict(X_test)\n",
        "print(\"\\nBernoulliNB Accuracy:\", accuracy_score(y_test, y_pred_bnb))\n",
        "print(classification_report(y_test, y_pred_bnb))"
      ],
      "metadata": {
        "colab": {
          "base_uri": "https://localhost:8080/"
        },
        "id": "mhNYxkTUv0k4",
        "outputId": "ebf0e450-223d-4589-ecf5-ffbc68bd4804"
      },
      "execution_count": 19,
      "outputs": [
        {
          "output_type": "stream",
          "name": "stdout",
          "text": [
            "\n",
            "BernoulliNB Accuracy: 0.755\n",
            "              precision    recall  f1-score   support\n",
            "\n",
            "           0       0.74      0.76      0.75        96\n",
            "           1       0.77      0.75      0.76       104\n",
            "\n",
            "    accuracy                           0.76       200\n",
            "   macro avg       0.75      0.76      0.75       200\n",
            "weighted avg       0.76      0.76      0.76       200\n",
            "\n"
          ]
        }
      ]
    },
    {
      "cell_type": "code",
      "source": [
        "# 4. Logistic Regression\n",
        "clf_lr = LogisticRegression(max_iter=1000)\n",
        "clf_lr.fit(X_train, y_train)\n",
        "y_pred_lr = clf_lr.predict(X_test)\n",
        "print(\"\\nLogistic Regression Accuracy:\", accuracy_score(y_test, y_pred_lr))\n",
        "print(classification_report(y_test, y_pred_lr))"
      ],
      "metadata": {
        "colab": {
          "base_uri": "https://localhost:8080/"
        },
        "id": "RRLt5FMPv3aS",
        "outputId": "63dd83ae-70c8-45dd-8a01-12b970952e60"
      },
      "execution_count": 20,
      "outputs": [
        {
          "output_type": "stream",
          "name": "stdout",
          "text": [
            "\n",
            "Logistic Regression Accuracy: 0.735\n",
            "              precision    recall  f1-score   support\n",
            "\n",
            "           0       0.68      0.84      0.75        96\n",
            "           1       0.81      0.63      0.71       104\n",
            "\n",
            "    accuracy                           0.73       200\n",
            "   macro avg       0.75      0.74      0.73       200\n",
            "weighted avg       0.75      0.73      0.73       200\n",
            "\n"
          ]
        }
      ]
    },
    {
      "cell_type": "code",
      "source": [
        "# 5. Random Forest\n",
        "clf_rf = RandomForestClassifier(n_estimators=100)\n",
        "clf_rf.fit(X_train, y_train)\n",
        "y_pred_rf = clf_rf.predict(X_test)\n",
        "print(\"\\nRandom Forest Accuracy:\", accuracy_score(y_test, y_pred_rf))\n",
        "print(classification_report(y_test, y_pred_rf))"
      ],
      "metadata": {
        "colab": {
          "base_uri": "https://localhost:8080/"
        },
        "id": "9ktfRjoRv6HY",
        "outputId": "cfe85be5-17c6-4da9-bdbd-b9b71f069a98"
      },
      "execution_count": 21,
      "outputs": [
        {
          "output_type": "stream",
          "name": "stdout",
          "text": [
            "\n",
            "Random Forest Accuracy: 0.695\n",
            "              precision    recall  f1-score   support\n",
            "\n",
            "           0       0.63      0.86      0.73        96\n",
            "           1       0.81      0.54      0.65       104\n",
            "\n",
            "    accuracy                           0.69       200\n",
            "   macro avg       0.72      0.70      0.69       200\n",
            "weighted avg       0.73      0.69      0.69       200\n",
            "\n"
          ]
        }
      ]
    },
    {
      "cell_type": "code",
      "source": [
        "# 6. SVM\n",
        "clf_svc = SVC()\n",
        "clf_svc.fit(X_train, y_train)\n",
        "y_pred_svc = clf_svc.predict(X_test)\n",
        "print(\"\\nSVM Accuracy:\", accuracy_score(y_test, y_pred_svc))\n",
        "print(classification_report(y_test, y_pred_svc))"
      ],
      "metadata": {
        "colab": {
          "base_uri": "https://localhost:8080/"
        },
        "id": "1CHPoUHEv94i",
        "outputId": "d940ba84-fa00-4cb2-fe46-0c8d71480291"
      },
      "execution_count": 22,
      "outputs": [
        {
          "output_type": "stream",
          "name": "stdout",
          "text": [
            "\n",
            "SVM Accuracy: 0.755\n",
            "              precision    recall  f1-score   support\n",
            "\n",
            "           0       0.70      0.85      0.77        96\n",
            "           1       0.83      0.66      0.74       104\n",
            "\n",
            "    accuracy                           0.76       200\n",
            "   macro avg       0.77      0.76      0.75       200\n",
            "weighted avg       0.77      0.76      0.75       200\n",
            "\n"
          ]
        }
      ]
    },
    {
      "cell_type": "code",
      "source": [
        "# 7. XGBoost\n",
        "clf_xgb = XGBClassifier(use_label_encoder=False, eval_metric='logloss')\n",
        "clf_xgb.fit(X_train, y_train)\n",
        "y_pred_xgb = clf_xgb.predict(X_test)\n",
        "print(\"\\nXGBoost Accuracy:\", accuracy_score(y_test, y_pred_xgb))\n",
        "print(classification_report(y_test, y_pred_xgb))"
      ],
      "metadata": {
        "colab": {
          "base_uri": "https://localhost:8080/"
        },
        "id": "5ZwKWeHfxniE",
        "outputId": "ccefbe3a-ecea-4b81-aa16-a0fc735701b3"
      },
      "execution_count": 26,
      "outputs": [
        {
          "output_type": "stream",
          "name": "stderr",
          "text": [
            "/usr/local/lib/python3.11/dist-packages/xgboost/core.py:158: UserWarning: [05:12:35] WARNING: /workspace/src/learner.cc:740: \n",
            "Parameters: { \"use_label_encoder\" } are not used.\n",
            "\n",
            "  warnings.warn(smsg, UserWarning)\n"
          ]
        },
        {
          "output_type": "stream",
          "name": "stdout",
          "text": [
            "\n",
            "XGBoost Accuracy: 0.685\n",
            "              precision    recall  f1-score   support\n",
            "\n",
            "           0       0.63      0.85      0.72        96\n",
            "           1       0.80      0.53      0.64       104\n",
            "\n",
            "    accuracy                           0.69       200\n",
            "   macro avg       0.71      0.69      0.68       200\n",
            "weighted avg       0.71      0.69      0.68       200\n",
            "\n"
          ]
        }
      ]
    },
    {
      "cell_type": "code",
      "source": [
        "import matplotlib.pyplot as plt\n",
        "import seaborn as sns\n",
        "\n",
        "# Accuracy scores from the models\n",
        "model_accuracies = {\n",
        "    \"GaussianNB\": accuracy_score(y_test, y_pred_gnb),\n",
        "    \"MultinomialNB\": accuracy_score(y_test, y_pred_mnb),\n",
        "    \"BernoulliNB\": accuracy_score(y_test, y_pred_bnb),\n",
        "    \"Logistic Regression\": accuracy_score(y_test, y_pred_lr),\n",
        "    \"Random Forest\": accuracy_score(y_test, y_pred_rf),\n",
        "    \"SVM\": accuracy_score(y_test, y_pred_svc),\n",
        "    \"XGBoost\": accuracy_score(y_test, y_pred_xgb)\n",
        "}\n",
        "\n",
        "# Convert to DataFrame for seaborn\n",
        "df_accuracy = pd.DataFrame(list(model_accuracies.items()), columns=[\"Model\", \"Accuracy\"])\n",
        "\n",
        "# Plot the accuracy comparison graph\n",
        "plt.figure(figsize=(10, 5))\n",
        "sns.barplot(data=df_accuracy, x=\"Model\", y=\"Accuracy\", palette=\"viridis\", hue=None, legend=False)\n",
        "\n",
        "# Customize the plot\n",
        "plt.xlabel(\"Models\", fontsize=12)\n",
        "plt.ylabel(\"Accuracy Score\", fontsize=12)\n",
        "plt.title(\"Comparison of Model Accuracies\", fontsize=14)\n",
        "plt.ylim(0, 1)  # Accuracy ranges between 0 and 1\n",
        "plt.xticks(rotation=30)\n",
        "plt.grid(axis=\"y\", linestyle=\"--\", alpha=0.7)\n",
        "\n",
        "# Show the graph\n",
        "plt.show()"
      ],
      "metadata": {
        "colab": {
          "base_uri": "https://localhost:8080/",
          "height": 664
        },
        "id": "khGXefAzwXli",
        "outputId": "bdf99cc6-1906-4b08-9e36-6d649b8b99ff"
      },
      "execution_count": 27,
      "outputs": [
        {
          "output_type": "stream",
          "name": "stderr",
          "text": [
            "<ipython-input-27-e2f18aac59d1>:20: FutureWarning: \n",
            "\n",
            "Passing `palette` without assigning `hue` is deprecated and will be removed in v0.14.0. Assign the `x` variable to `hue` and set `legend=False` for the same effect.\n",
            "\n",
            "  sns.barplot(data=df_accuracy, x=\"Model\", y=\"Accuracy\", palette=\"viridis\", hue=None, legend=False)\n"
          ]
        },
        {
          "output_type": "display_data",
          "data": {
            "text/plain": [
              "<Figure size 1000x500 with 1 Axes>"
            ],
            "image/png": "[encoded data removed]"
          },
          "metadata": {}
        }
      ]
    }
  ]
}